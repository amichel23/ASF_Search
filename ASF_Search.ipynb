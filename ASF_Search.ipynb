{
 "cells": [
  {
   "cell_type": "markdown",
   "id": "3ca73ac8",
   "metadata": {},
   "source": [
    "# ASF Search Practice"
   ]
  },
  {
   "cell_type": "markdown",
   "id": "cfd1f6fb",
   "metadata": {},
   "source": [
    "## Importing ASF Search"
   ]
  },
  {
   "cell_type": "code",
   "execution_count": 1,
   "id": "92acf45a",
   "metadata": {},
   "outputs": [],
   "source": [
    "import asf_search as asf"
   ]
  },
  {
   "cell_type": "markdown",
   "id": "8b43cfc5",
   "metadata": {},
   "source": [
    "### Checking Version"
   ]
  },
  {
   "cell_type": "code",
   "execution_count": 2,
   "id": "1377fade",
   "metadata": {},
   "outputs": [
    {
     "data": {
      "text/plain": [
       "'5.1.2'"
      ]
     },
     "execution_count": 2,
     "metadata": {},
     "output_type": "execute_result"
    }
   ],
   "source": [
    "asf.__version__"
   ]
  },
  {
   "cell_type": "markdown",
   "id": "3a17b646",
   "metadata": {},
   "source": [
    "### Basic Search"
   ]
  },
  {
   "cell_type": "markdown",
   "id": "5d3efa22",
   "metadata": {},
   "source": [
    "Basic Seaching calling the search method"
   ]
  },
  {
   "cell_type": "code",
   "execution_count": 3,
   "id": "da4fd9ae",
   "metadata": {},
   "outputs": [],
   "source": [
    "results = asf.search(platform=asf.PLATFORM.SENTINEL1, maxResults=5)"
   ]
  },
  {
   "cell_type": "code",
   "execution_count": 4,
   "id": "67989104",
   "metadata": {},
   "outputs": [
    {
     "data": {
      "text/plain": [
       "[<asf_search.ASFProduct.ASFProduct object at 0x7f99905f8eb0>, <asf_search.ASFProduct.ASFProduct object at 0x7f99b1099f10>, <asf_search.ASFProduct.ASFProduct object at 0x7f99905f8d00>, <asf_search.ASFProduct.ASFProduct object at 0x7f99905f8e80>, <asf_search.ASFProduct.ASFProduct object at 0x7f99905f8cd0>]"
      ]
     },
     "execution_count": 4,
     "metadata": {},
     "output_type": "execute_result"
    }
   ],
   "source": [
    "results"
   ]
  },
  {
   "cell_type": "markdown",
   "id": "e51fe229",
   "metadata": {},
   "source": [
    "using dict to search args"
   ]
  },
  {
   "cell_type": "code",
   "execution_count": 5,
   "id": "43782d15",
   "metadata": {},
   "outputs": [
    {
     "name": "stdout",
     "output_type": "stream",
     "text": [
      "{\n",
      "  \"features\": [\n",
      "    {\n",
      "      \"geometry\": {\n",
      "        \"coordinates\": [\n",
      "          [\n",
      "            [\n",
      "              -59.7539,\n",
      "              18.3653\n",
      "            ],\n",
      "            [\n",
      "              -62.0552,\n",
      "              18.0873\n",
      "            ],\n",
      "            [\n",
      "              -61.7352,\n",
      "              16.5426\n",
      "            ],\n",
      "            [\n",
      "              -59.4538,\n",
      "              16.8228\n",
      "            ],\n",
      "            [\n",
      "              -59.7539,\n",
      "              18.3653\n",
      "            ]\n",
      "          ]\n",
      "        ],\n",
      "        \"type\": \"Polygon\"\n",
      "      },\n",
      "      \"properties\": {\n",
      "        \"beamModeType\": \"IW\",\n",
      "        \"browse\": null,\n",
      "        \"bytes\": 1303599152,\n",
      "        \"centerLat\": 17.4578,\n",
      "        \"centerLon\": -60.7505,\n",
      "        \"faradayRotation\": null,\n",
      "        \"fileID\": \"S1A_IW_RAW__0SDV_20230403T221202_20230403T221228_047938_05C2CC_E8B2-RAW\",\n",
      "        \"fileName\": \"S1A_IW_RAW__0SDV_20230403T221202_20230403T221228_047938_05C2CC_E8B2.zip\",\n",
      "        \"flightDirection\": \"ASCENDING\",\n",
      "        \"frameNumber\": 53,\n",
      "        \"granuleType\": \"SENTINEL_1A_FRAME\",\n",
      "        \"groupID\": \"S1A_IWDV_0053_0058_047938_091\",\n",
      "        \"insarStackId\": null,\n",
      "        \"md5sum\": \"8472df253d302b9b4dba092702f6805c\",\n",
      "        \"offNadirAngle\": null,\n",
      "        \"orbit\": 47938,\n",
      "        \"pathNumber\": 91,\n",
      "        \"platform\": \"Sentinel-1A\",\n",
      "        \"pointingAngle\": null,\n",
      "        \"polarization\": \"VV+VH\",\n",
      "        \"processingDate\": \"2023-04-03T22:12:02.000Z\",\n",
      "        \"processingLevel\": \"RAW\",\n",
      "        \"sceneName\": \"S1A_IW_RAW__0SDV_20230403T221202_20230403T221228_047938_05C2CC_E8B2\",\n",
      "        \"sensor\": \"C-SAR\",\n",
      "        \"startTime\": \"2023-04-03T22:12:02.000Z\",\n",
      "        \"stopTime\": \"2023-04-03T22:12:28.000Z\",\n",
      "        \"url\": \"https://datapool.asf.alaska.edu/RAW/SA/S1A_IW_RAW__0SDV_20230403T221202_20230403T221228_047938_05C2CC_E8B2.zip\"\n",
      "      },\n",
      "      \"type\": \"Feature\"\n",
      "    },\n",
      "    {\n",
      "      \"geometry\": {\n",
      "        \"coordinates\": [\n",
      "          [\n",
      "            [\n",
      "              -59.7539,\n",
      "              18.3653\n",
      "            ],\n",
      "            [\n",
      "              -62.0552,\n",
      "              18.0873\n",
      "            ],\n",
      "            [\n",
      "              -61.7352,\n",
      "              16.5426\n",
      "            ],\n",
      "            [\n",
      "              -59.4538,\n",
      "              16.8228\n",
      "            ],\n",
      "            [\n",
      "              -59.7539,\n",
      "              18.3653\n",
      "            ]\n",
      "          ]\n",
      "        ],\n",
      "        \"type\": \"Polygon\"\n",
      "      },\n",
      "      \"properties\": {\n",
      "        \"beamModeType\": \"IW\",\n",
      "        \"browse\": null,\n",
      "        \"bytes\": 41599,\n",
      "        \"centerLat\": 17.4578,\n",
      "        \"centerLon\": -60.7505,\n",
      "        \"faradayRotation\": null,\n",
      "        \"fileID\": \"S1A_IW_RAW__0SDV_20230403T221202_20230403T221228_047938_05C2CC_E8B2-METADATA_RAW\",\n",
      "        \"fileName\": \"S1A_IW_RAW__0SDV_20230403T221202_20230403T221228_047938_05C2CC_E8B2.iso.xml\",\n",
      "        \"flightDirection\": \"ASCENDING\",\n",
      "        \"frameNumber\": 53,\n",
      "        \"granuleType\": \"SENTINEL_1A_FRAME\",\n",
      "        \"groupID\": \"S1A_IWDV_0053_0058_047938_091\",\n",
      "        \"insarStackId\": null,\n",
      "        \"md5sum\": \"eac273030307e1d17fabd9c174e71cf4\",\n",
      "        \"offNadirAngle\": null,\n",
      "        \"orbit\": 47938,\n",
      "        \"pathNumber\": 91,\n",
      "        \"platform\": \"Sentinel-1A\",\n",
      "        \"pointingAngle\": null,\n",
      "        \"polarization\": \"VV+VH\",\n",
      "        \"processingDate\": \"2023-04-03T22:12:02.000Z\",\n",
      "        \"processingLevel\": \"METADATA_RAW\",\n",
      "        \"sceneName\": \"S1A_IW_RAW__0SDV_20230403T221202_20230403T221228_047938_05C2CC_E8B2\",\n",
      "        \"sensor\": \"C-SAR\",\n",
      "        \"startTime\": \"2023-04-03T22:12:02.000Z\",\n",
      "        \"stopTime\": \"2023-04-03T22:12:28.000Z\",\n",
      "        \"url\": \"https://datapool.asf.alaska.edu/METADATA_RAW/SA/S1A_IW_RAW__0SDV_20230403T221202_20230403T221228_047938_05C2CC_E8B2.iso.xml\"\n",
      "      },\n",
      "      \"type\": \"Feature\"\n",
      "    },\n",
      "    {\n",
      "      \"geometry\": {\n",
      "        \"coordinates\": [\n",
      "          [\n",
      "            [\n",
      "              -59.5409,\n",
      "              17.27\n",
      "            ],\n",
      "            [\n",
      "              -61.8279,\n",
      "              16.9905\n",
      "            ],\n",
      "            [\n",
      "              -61.4225,\n",
      "              15.0294\n",
      "            ],\n",
      "            [\n",
      "              -59.1586,\n",
      "              15.3119\n",
      "            ],\n",
      "            [\n",
      "              -59.5409,\n",
      "              17.27\n",
      "            ]\n",
      "          ]\n",
      "        ],\n",
      "        \"type\": \"Polygon\"\n",
      "      },\n",
      "      \"properties\": {\n",
      "        \"beamModeType\": \"IW\",\n",
      "        \"browse\": null,\n",
      "        \"bytes\": 1686575640,\n",
      "        \"centerLat\": 16.1535,\n",
      "        \"centerLon\": -60.488,\n",
      "        \"faradayRotation\": null,\n",
      "        \"fileID\": \"S1A_IW_RAW__0SDV_20230403T221137_20230403T221210_047938_05C2CC_F7E4-RAW\",\n",
      "        \"fileName\": \"S1A_IW_RAW__0SDV_20230403T221137_20230403T221210_047938_05C2CC_F7E4.zip\",\n",
      "        \"flightDirection\": \"ASCENDING\",\n",
      "        \"frameNumber\": 48,\n",
      "        \"granuleType\": \"SENTINEL_1A_FRAME\",\n",
      "        \"groupID\": \"S1A_IWDV_0048_0054_047938_091\",\n",
      "        \"insarStackId\": null,\n",
      "        \"md5sum\": \"970e2cb91ea64d3922ef4d0d8dbf1b1e\",\n",
      "        \"offNadirAngle\": null,\n",
      "        \"orbit\": 47938,\n",
      "        \"pathNumber\": 91,\n",
      "        \"platform\": \"Sentinel-1A\",\n",
      "        \"pointingAngle\": null,\n",
      "        \"polarization\": \"VV+VH\",\n",
      "        \"processingDate\": \"2023-04-03T22:11:37.000Z\",\n",
      "        \"processingLevel\": \"RAW\",\n",
      "        \"sceneName\": \"S1A_IW_RAW__0SDV_20230403T221137_20230403T221210_047938_05C2CC_F7E4\",\n",
      "        \"sensor\": \"C-SAR\",\n",
      "        \"startTime\": \"2023-04-03T22:11:37.000Z\",\n",
      "        \"stopTime\": \"2023-04-03T22:12:10.000Z\",\n",
      "        \"url\": \"https://datapool.asf.alaska.edu/RAW/SA/S1A_IW_RAW__0SDV_20230403T221137_20230403T221210_047938_05C2CC_F7E4.zip\"\n",
      "      },\n",
      "      \"type\": \"Feature\"\n",
      "    },\n",
      "    {\n",
      "      \"geometry\": {\n",
      "        \"coordinates\": [\n",
      "          [\n",
      "            [\n",
      "              -59.5409,\n",
      "              17.27\n",
      "            ],\n",
      "            [\n",
      "              -61.8279,\n",
      "              16.9905\n",
      "            ],\n",
      "            [\n",
      "              -61.4225,\n",
      "              15.0294\n",
      "            ],\n",
      "            [\n",
      "              -59.1586,\n",
      "              15.3119\n",
      "            ],\n",
      "            [\n",
      "              -59.5409,\n",
      "              17.27\n",
      "            ]\n",
      "          ]\n",
      "        ],\n",
      "        \"type\": \"Polygon\"\n",
      "      },\n",
      "      \"properties\": {\n",
      "        \"beamModeType\": \"IW\",\n",
      "        \"browse\": null,\n",
      "        \"bytes\": 41599,\n",
      "        \"centerLat\": 16.1535,\n",
      "        \"centerLon\": -60.488,\n",
      "        \"faradayRotation\": null,\n",
      "        \"fileID\": \"S1A_IW_RAW__0SDV_20230403T221137_20230403T221210_047938_05C2CC_F7E4-METADATA_RAW\",\n",
      "        \"fileName\": \"S1A_IW_RAW__0SDV_20230403T221137_20230403T221210_047938_05C2CC_F7E4.iso.xml\",\n",
      "        \"flightDirection\": \"ASCENDING\",\n",
      "        \"frameNumber\": 48,\n",
      "        \"granuleType\": \"SENTINEL_1A_FRAME\",\n",
      "        \"groupID\": \"S1A_IWDV_0048_0054_047938_091\",\n",
      "        \"insarStackId\": null,\n",
      "        \"md5sum\": \"bf125847dc7f2a58cc23aab3ccf53527\",\n",
      "        \"offNadirAngle\": null,\n",
      "        \"orbit\": 47938,\n",
      "        \"pathNumber\": 91,\n",
      "        \"platform\": \"Sentinel-1A\",\n",
      "        \"pointingAngle\": null,\n",
      "        \"polarization\": \"VV+VH\",\n",
      "        \"processingDate\": \"2023-04-03T22:11:37.000Z\",\n",
      "        \"processingLevel\": \"METADATA_RAW\",\n",
      "        \"sceneName\": \"S1A_IW_RAW__0SDV_20230403T221137_20230403T221210_047938_05C2CC_F7E4\",\n",
      "        \"sensor\": \"C-SAR\",\n",
      "        \"startTime\": \"2023-04-03T22:11:37.000Z\",\n",
      "        \"stopTime\": \"2023-04-03T22:12:10.000Z\",\n",
      "        \"url\": \"https://datapool.asf.alaska.edu/METADATA_RAW/SA/S1A_IW_RAW__0SDV_20230403T221137_20230403T221210_047938_05C2CC_F7E4.iso.xml\"\n",
      "      },\n",
      "      \"type\": \"Feature\"\n",
      "    },\n",
      "    {\n",
      "      \"geometry\": {\n",
      "        \"coordinates\": [\n",
      "          [\n",
      "            [\n",
      "              -59.2461,\n",
      "              15.759\n",
      "            ],\n",
      "            [\n",
      "              -61.515,\n",
      "              15.4772\n",
      "            ],\n",
      "            [\n",
      "              -61.1104,\n",
      "              13.5161\n",
      "            ],\n",
      "            [\n",
      "              -58.8621,\n",
      "              13.8011\n",
      "            ],\n",
      "            [\n",
      "              -59.2461,\n",
      "              15.759\n",
      "            ]\n",
      "          ]\n",
      "        ],\n",
      "        \"type\": \"Polygon\"\n",
      "      },\n",
      "      \"properties\": {\n",
      "        \"beamModeType\": \"IW\",\n",
      "        \"browse\": null,\n",
      "        \"bytes\": 41599,\n",
      "        \"centerLat\": 14.6411,\n",
      "        \"centerLon\": -60.1839,\n",
      "        \"faradayRotation\": null,\n",
      "        \"fileID\": \"S1A_IW_RAW__0SDV_20230403T221112_20230403T221145_047938_05C2CC_AC4C-METADATA_RAW\",\n",
      "        \"fileName\": \"S1A_IW_RAW__0SDV_20230403T221112_20230403T221145_047938_05C2CC_AC4C.iso.xml\",\n",
      "        \"flightDirection\": \"ASCENDING\",\n",
      "        \"frameNumber\": 43,\n",
      "        \"granuleType\": \"SENTINEL_1A_FRAME\",\n",
      "        \"groupID\": \"S1A_IWDV_0043_0049_047938_091\",\n",
      "        \"insarStackId\": null,\n",
      "        \"md5sum\": \"6944d530b88d9a6ec2e5df793f99828d\",\n",
      "        \"offNadirAngle\": null,\n",
      "        \"orbit\": 47938,\n",
      "        \"pathNumber\": 91,\n",
      "        \"platform\": \"Sentinel-1A\",\n",
      "        \"pointingAngle\": null,\n",
      "        \"polarization\": \"VV+VH\",\n",
      "        \"processingDate\": \"2023-04-03T22:11:12.000Z\",\n",
      "        \"processingLevel\": \"METADATA_RAW\",\n",
      "        \"sceneName\": \"S1A_IW_RAW__0SDV_20230403T221112_20230403T221145_047938_05C2CC_AC4C\",\n",
      "        \"sensor\": \"C-SAR\",\n",
      "        \"startTime\": \"2023-04-03T22:11:12.000Z\",\n",
      "        \"stopTime\": \"2023-04-03T22:11:45.000Z\",\n",
      "        \"url\": \"https://datapool.asf.alaska.edu/METADATA_RAW/SA/S1A_IW_RAW__0SDV_20230403T221112_20230403T221145_047938_05C2CC_AC4C.iso.xml\"\n",
      "      },\n",
      "      \"type\": \"Feature\"\n",
      "    }\n",
      "  ],\n",
      "  \"type\": \"FeatureCollection\"\n",
      "}\n"
     ]
    }
   ],
   "source": [
    "opts = {\n",
    "    'platform':asf.PLATFORM.SENTINEL1,\n",
    "    'maxResults':5\n",
    "}\n",
    "results = asf.search(**opts)\n",
    "print(results)"
   ]
  },
  {
   "cell_type": "markdown",
   "id": "3882b82b",
   "metadata": {},
   "source": [
    "### Working With Results"
   ]
  },
  {
   "cell_type": "markdown",
   "id": "c3d73df5",
   "metadata": {},
   "source": [
    "asf_search provided constants\n",
    "-BEAMMODE \n",
    "-FLIGHT_DIRECTION \n",
    "-INSTRUMENT\n",
    "-PLATFORM \n",
    "-POLARIZATION\n",
    "-PRODUCT_TYPE"
   ]
  },
  {
   "cell_type": "code",
   "execution_count": 6,
   "id": "6808b701",
   "metadata": {},
   "outputs": [
    {
     "data": {
      "text/plain": [
       "[<asf_search.ASFProduct.ASFProduct object at 0x7f99904e33d0>, <asf_search.ASFProduct.ASFProduct object at 0x7f99904e3190>, <asf_search.ASFProduct.ASFProduct object at 0x7f99903bb880>, <asf_search.ASFProduct.ASFProduct object at 0x7f99903bbfa0>, <asf_search.ASFProduct.ASFProduct object at 0x7f99b2008250>]"
      ]
     },
     "execution_count": 6,
     "metadata": {},
     "output_type": "execute_result"
    }
   ],
   "source": [
    "results"
   ]
  },
  {
   "cell_type": "code",
   "execution_count": 7,
   "id": "9de9bc64",
   "metadata": {},
   "outputs": [
    {
     "data": {
      "text/plain": [
       "{'coordinates': [[[-59.7539, 18.3653],\n",
       "   [-62.0552, 18.0873],\n",
       "   [-61.7352, 16.5426],\n",
       "   [-59.4538, 16.8228],\n",
       "   [-59.7539, 18.3653]]],\n",
       " 'type': 'Polygon'}"
      ]
     },
     "execution_count": 7,
     "metadata": {},
     "output_type": "execute_result"
    }
   ],
   "source": [
    "results[0].geometry"
   ]
  },
  {
   "cell_type": "code",
   "execution_count": 8,
   "id": "8fca832c",
   "metadata": {},
   "outputs": [
    {
     "data": {
      "text/plain": [
       "{'beamModeType': 'IW',\n",
       " 'browse': None,\n",
       " 'bytes': 1303599152,\n",
       " 'centerLat': 17.4578,\n",
       " 'centerLon': -60.7505,\n",
       " 'faradayRotation': None,\n",
       " 'fileID': 'S1A_IW_RAW__0SDV_20230403T221202_20230403T221228_047938_05C2CC_E8B2-RAW',\n",
       " 'flightDirection': 'ASCENDING',\n",
       " 'groupID': 'S1A_IWDV_0053_0058_047938_091',\n",
       " 'granuleType': 'SENTINEL_1A_FRAME',\n",
       " 'insarStackId': None,\n",
       " 'md5sum': '8472df253d302b9b4dba092702f6805c',\n",
       " 'offNadirAngle': None,\n",
       " 'orbit': 47938,\n",
       " 'pathNumber': 91,\n",
       " 'platform': 'Sentinel-1A',\n",
       " 'pointingAngle': None,\n",
       " 'polarization': 'VV+VH',\n",
       " 'processingDate': '2023-04-03T22:12:02.000Z',\n",
       " 'processingLevel': 'RAW',\n",
       " 'sceneName': 'S1A_IW_RAW__0SDV_20230403T221202_20230403T221228_047938_05C2CC_E8B2',\n",
       " 'sensor': 'C-SAR',\n",
       " 'startTime': '2023-04-03T22:12:02.000Z',\n",
       " 'stopTime': '2023-04-03T22:12:28.000Z',\n",
       " 'url': 'https://datapool.asf.alaska.edu/RAW/SA/S1A_IW_RAW__0SDV_20230403T221202_20230403T221228_047938_05C2CC_E8B2.zip',\n",
       " 'fileName': 'S1A_IW_RAW__0SDV_20230403T221202_20230403T221228_047938_05C2CC_E8B2.zip',\n",
       " 'frameNumber': 53}"
      ]
     },
     "execution_count": 8,
     "metadata": {},
     "output_type": "execute_result"
    }
   ],
   "source": [
    "results[0].properties"
   ]
  },
  {
   "cell_type": "markdown",
   "id": "4587dad1",
   "metadata": {},
   "source": [
    "Output"
   ]
  },
  {
   "cell_type": "code",
   "execution_count": 10,
   "id": "41c357b1",
   "metadata": {
    "scrolled": false
   },
   "outputs": [
    {
     "name": "stdout",
     "output_type": "stream",
     "text": [
      "{\n",
      "  \"geometry\": {\n",
      "    \"coordinates\": [\n",
      "      [\n",
      "        [\n",
      "          -59.7539,\n",
      "          18.3653\n",
      "        ],\n",
      "        [\n",
      "          -62.0552,\n",
      "          18.0873\n",
      "        ],\n",
      "        [\n",
      "          -61.7352,\n",
      "          16.5426\n",
      "        ],\n",
      "        [\n",
      "          -59.4538,\n",
      "          16.8228\n",
      "        ],\n",
      "        [\n",
      "          -59.7539,\n",
      "          18.3653\n",
      "        ]\n",
      "      ]\n",
      "    ],\n",
      "    \"type\": \"Polygon\"\n",
      "  },\n",
      "  \"properties\": {\n",
      "    \"beamModeType\": \"IW\",\n",
      "    \"browse\": null,\n",
      "    \"bytes\": 1303599152,\n",
      "    \"centerLat\": 17.4578,\n",
      "    \"centerLon\": -60.7505,\n",
      "    \"faradayRotation\": null,\n",
      "    \"fileID\": \"S1A_IW_RAW__0SDV_20230403T221202_20230403T221228_047938_05C2CC_E8B2-RAW\",\n",
      "    \"fileName\": \"S1A_IW_RAW__0SDV_20230403T221202_20230403T221228_047938_05C2CC_E8B2.zip\",\n",
      "    \"flightDirection\": \"ASCENDING\",\n",
      "    \"frameNumber\": 53,\n",
      "    \"granuleType\": \"SENTINEL_1A_FRAME\",\n",
      "    \"groupID\": \"S1A_IWDV_0053_0058_047938_091\",\n",
      "    \"insarStackId\": null,\n",
      "    \"md5sum\": \"8472df253d302b9b4dba092702f6805c\",\n",
      "    \"offNadirAngle\": null,\n",
      "    \"orbit\": 47938,\n",
      "    \"pathNumber\": 91,\n",
      "    \"platform\": \"Sentinel-1A\",\n",
      "    \"pointingAngle\": null,\n",
      "    \"polarization\": \"VV+VH\",\n",
      "    \"processingDate\": \"2023-04-03T22:12:02.000Z\",\n",
      "    \"processingLevel\": \"RAW\",\n",
      "    \"sceneName\": \"S1A_IW_RAW__0SDV_20230403T221202_20230403T221228_047938_05C2CC_E8B2\",\n",
      "    \"sensor\": \"C-SAR\",\n",
      "    \"startTime\": \"2023-04-03T22:12:02.000Z\",\n",
      "    \"stopTime\": \"2023-04-03T22:12:28.000Z\",\n",
      "    \"url\": \"https://datapool.asf.alaska.edu/RAW/SA/S1A_IW_RAW__0SDV_20230403T221202_20230403T221228_047938_05C2CC_E8B2.zip\"\n",
      "  },\n",
      "  \"type\": \"Feature\"\n",
      "}\n"
     ]
    }
   ],
   "source": [
    "print(results[0])"
   ]
  },
  {
   "cell_type": "markdown",
   "id": "8dcd873f",
   "metadata": {},
   "source": [
    "performing geographical search"
   ]
  },
  {
   "cell_type": "code",
   "execution_count": 11,
   "id": "c6ee694e",
   "metadata": {},
   "outputs": [],
   "source": [
    "aoi = 'POLYGON((126.8947 37.4293,127.1204 37.4293,127.1204 37.5844,126.8947 37.5844,126.8947 37.4293))'"
   ]
  },
  {
   "cell_type": "code",
   "execution_count": 14,
   "id": "cda89500",
   "metadata": {},
   "outputs": [],
   "source": [
    "opts = {\n",
    "    'platform':asf.PLATFORM.ALOS,\n",
    "    'start': '2010-01-01T00:00:00Z',\n",
    "    'end':'2010-02-01T00:00:00Z'\n",
    "}"
   ]
  },
  {
   "cell_type": "code",
   "execution_count": 16,
   "id": "0c4bcfb1",
   "metadata": {},
   "outputs": [
    {
     "name": "stdout",
     "output_type": "stream",
     "text": [
      "4 results found\n"
     ]
    }
   ],
   "source": [
    "results = asf.geo_search(intersectsWith=aoi, **opts)\n",
    "\n",
    "print(f'{len(results)} results found')"
   ]
  },
  {
   "cell_type": "markdown",
   "id": "6e0ebcfa",
   "metadata": {},
   "source": [
    "Search based on scene's footprint"
   ]
  },
  {
   "cell_type": "code",
   "execution_count": 18,
   "id": "4af38828",
   "metadata": {},
   "outputs": [
    {
     "name": "stdout",
     "output_type": "stream",
     "text": [
      "13 results found\n"
     ]
    }
   ],
   "source": [
    "from shapely.geometry import shape\n",
    "\n",
    "new_aoi = shape(results[0].geometry).wkt\n",
    "\n",
    "refined_results = asf.geo_search(intersectsWith=new_aoi, **opts)\n",
    "\n",
    "print(f'{len(refined_results)} results found')"
   ]
  },
  {
   "cell_type": "raw",
   "id": "694117be",
   "metadata": {},
   "source": [
    "search based on scenes centroid"
   ]
  },
  {
   "cell_type": "code",
   "execution_count": 19,
   "id": "ccbf9256",
   "metadata": {},
   "outputs": [
    {
     "name": "stdout",
     "output_type": "stream",
     "text": [
      "3 results found\n"
     ]
    }
   ],
   "source": [
    "centroid = results[0].centroid().wkt\n",
    "\n",
    "centroid_results = asf.geo_search(intersectsWith=centroid, **opts)\n",
    "print(f'{len(centroid_results)} results found')"
   ]
  },
  {
   "cell_type": "code",
   "execution_count": null,
   "id": "e38b411f",
   "metadata": {},
   "outputs": [],
   "source": []
  },
  {
   "cell_type": "code",
   "execution_count": null,
   "id": "3ddff8a0",
   "metadata": {},
   "outputs": [],
   "source": []
  },
  {
   "cell_type": "code",
   "execution_count": null,
   "id": "d62950cc",
   "metadata": {},
   "outputs": [],
   "source": []
  },
  {
   "cell_type": "code",
   "execution_count": null,
   "id": "6f40a69d",
   "metadata": {},
   "outputs": [],
   "source": []
  }
 ],
 "metadata": {
  "kernelspec": {
   "display_name": "Python 3 (ipykernel)",
   "language": "python",
   "name": "python3"
  },
  "language_info": {
   "codemirror_mode": {
    "name": "ipython",
    "version": 3
   },
   "file_extension": ".py",
   "mimetype": "text/x-python",
   "name": "python",
   "nbconvert_exporter": "python",
   "pygments_lexer": "ipython3",
   "version": "3.9.13"
  }
 },
 "nbformat": 4,
 "nbformat_minor": 5
}
